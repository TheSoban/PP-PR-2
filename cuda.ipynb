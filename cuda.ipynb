{
 "cells": [
  {
   "cell_type": "code",
   "execution_count": 2,
   "id": "e520ba33",
   "metadata": {},
   "outputs": [],
   "source": [
    "%matplotlib inline\n",
    "from matplotlib import pyplot as plt\n",
    "import numpy as np\n",
    "from numba import cuda, int64\n",
    "from timeit import default_timer as timer\n",
    "import simple"
   ]
  },
  {
   "cell_type": "code",
   "execution_count": 28,
   "id": "ea34b9d7",
   "metadata": {},
   "outputs": [],
   "source": [
    "def get_df(times: list[int], samples: int):\n",
    "    if len(times) < samples - 2:\n",
    "        return \"----\"\n",
    "    return str(round((np.sum(times) - min(times) - max(times)) / (samples - 2) * 1000, 2)).replace(\".\",\",\")\n",
    "\n",
    "\n",
    "def get_test_tracks(len: int, track: np.array) -> tuple[int, np.array, np.array]:\n",
    "    return offset, track[:len]\n",
    "\n",
    "def comp_tracks(a: np.array, b: np.array) -> int:\n",
    "    return np.sum(np.abs(np.subtract(a, b)))\n",
    "\n",
    "def calc_cpu(a: np.array, b: np.array) -> int:\n",
    "    return np.argmin(np.array([comp_tracks(a, b[i:(i + 1024)]) for i in range(len(b) - 1024)]))\n",
    "\n",
    "@cuda.jit(device=True)\n",
    "def diff(a, b):\n",
    "    return abs(a - b)\n",
    "\n",
    "@cuda.jit\n",
    "def calc_gpu(offset, track, res):\n",
    "    off = cuda.blockIdx.x + cuda.blockIdx.y * cuda.gridDim.y\n",
    "    t_idx = cuda.threadIdx.x + cuda.threadIdx.y * cuda.blockDim.y\n",
    "\n",
    "    if off >= res.shape[0] or t_idx >= track.shape[0]:\n",
    "        return\n",
    "\n",
    "    res[off, t_idx] = diff(offset[t_idx], track[off + t_idx])\n",
    "\n",
    "@cuda.jit\n",
    "def calc_gpu_shared(offset, track, res):\n",
    "    off = cuda.blockIdx.x + cuda.blockIdx.y * cuda.gridDim.y\n",
    "    t_idx = cuda.threadIdx.x + cuda.threadIdx.y * cuda.blockDim.y\n",
    "\n",
    "    if off >= res.shape[0] or t_idx >= track.shape[0]:\n",
    "        return\n",
    "\n",
    "    sharedMem = cuda.shared.array(shape=(1), dtype=int64)\n",
    "    if t_idx == 0:\n",
    "        sharedMem[0] = 0\n",
    "    \n",
    "    cuda.syncthreads()\n",
    "    cuda.atomic.add(sharedMem, 0, diff(offset[t_idx], track[off + t_idx]))\n",
    "    cuda.syncthreads()\n",
    "\n",
    "    if t_idx == 0:\n",
    "        res[off] = sharedMem[0]"
   ]
  },
  {
   "cell_type": "code",
   "execution_count": 31,
   "id": "3de3a545",
   "metadata": {},
   "outputs": [
    {
     "data": {
      "image/png": "[encoded data removed]",
      "text/plain": [
       "<Figure size 432x288 with 1 Axes>"
      ]
     },
     "metadata": {
      "needs_background": "light"
     },
     "output_type": "display_data"
    }
   ],
   "source": [
    "original = simple.load_sound_files()[0]\n",
    "original.data = original.data[10000:]\n",
    "plt.plot(original.data)\n",
    "test_data = { int(size): { \"offset\": original.data[1024:2048], \"track\": original.data[0:int(size)] } for size in [5e3, 1e4, 2e4, 5e4, 1e5, 2e5, 5e5]}"
   ]
  },
  {
   "cell_type": "code",
   "execution_count": 36,
   "id": "18c8b2a2",
   "metadata": {},
   "outputs": [
    {
     "name": "stdout",
     "output_type": "stream",
     "text": [
      "    5000 =    30,93ms\n",
      "   10000 =    70,25ms\n",
      "   20000 =   149,35ms\n",
      "   50000 =   389,72ms\n",
      "  100000 =   774,47ms\n",
      "  200000 =  1550,99ms\n",
      "  500000 =  3885,11ms\n"
     ]
    }
   ],
   "source": [
    "samples = 12\n",
    "results = {}\n",
    "\n",
    "for size, data in test_data.items():\n",
    "    times = []\n",
    "    for i in range(samples):\n",
    "        start = timer()\n",
    "        res = calc_cpu(data[\"offset\"], data[\"track\"])\n",
    "        end = timer()\n",
    "        if res != 1024:\n",
    "            print(f\"Bad value for size: {size}\")\n",
    "            break;\n",
    "        times.append(end - start)\n",
    "    print(f\"{size:>8} = {get_df(times, samples):>8}ms\")"
   ]
  },
  {
   "cell_type": "code",
   "execution_count": 37,
   "id": "00cb5e84",
   "metadata": {},
   "outputs": [
    {
     "name": "stdout",
     "output_type": "stream",
     "text": [
      "    5000 =   178,68ms\n",
      "   10000 =    188,2ms\n",
      "   20000 =   209,76ms\n",
      "   50000 =   269,35ms\n",
      "  100000 =   370,28ms\n",
      "  200000 =   568,66ms\n",
      "  500000 =  1167,35ms\n"
     ]
    }
   ],
   "source": [
    "threads_per_block = (32, 32)\n",
    "block_size = int(np.ceil(np.sqrt(original.len - 1024)))\n",
    "blocks_per_grid = (block_size, block_size)\n",
    "\n",
    "samples = 13\n",
    "\n",
    "for size, data in test_data.items():\n",
    "    times = []\n",
    "    for i in range(samples):\n",
    "        start = timer()\n",
    "        offset_gpu = cuda.to_device(data[\"offset\"])\n",
    "        track_gpu = cuda.to_device(data[\"track\"])\n",
    "        res_gpu = cuda.to_device(np.zeros((len(data[\"track\"]) - 1024, 1024), dtype=np.int16))\n",
    "        calc_gpu[blocks_per_grid, threads_per_block](offset_gpu, track_gpu, res_gpu)\n",
    "        arg = np.argmin(np.sum(res_gpu.copy_to_host(), axis=1))\n",
    "        end = timer()\n",
    "        if i == 0:\n",
    "            continue\n",
    "\n",
    "        if res != 1024:\n",
    "            print(f\"Bad value for size: {size}\")\n",
    "            break;\n",
    "        times.append(end - start)\n",
    "    print(f\"{size:>8} = {get_df(times, samples - 1):>8}ms\")\n"
   ]
  },
  {
   "cell_type": "code",
   "execution_count": 35,
   "id": "37c4ada0",
   "metadata": {},
   "outputs": [
    {
     "name": "stdout",
     "output_type": "stream",
     "text": [
      "    5000 =   342,96ms\n",
      "   10000 =   560,13ms\n",
      "   20000 =    992,3ms\n",
      "   50000 =  2291,14ms\n",
      "  100000 =  4456,26ms\n",
      "  200000 =  8786,98ms\n",
      "  500000 = 21902,83ms\n"
     ]
    }
   ],
   "source": [
    "threads_per_block = (32, 32)\n",
    "block_size = int(np.ceil(np.sqrt(original.len - 1024)))\n",
    "blocks_per_grid = (block_size, block_size)\n",
    "\n",
    "samples = 4\n",
    "\n",
    "for size, data in test_data.items():\n",
    "    times = []\n",
    "    for i in range(samples):\n",
    "        start = timer()\n",
    "        offset_gpu = cuda.to_device(data[\"offset\"])\n",
    "        track_gpu = cuda.to_device(data[\"track\"])\n",
    "        res_gpu = cuda.to_device(np.zeros((len(data[\"track\"]) - 1024), dtype=np.int16))\n",
    "        calc_gpu_shared[blocks_per_grid, threads_per_block](offset_gpu, track_gpu, res_gpu)\n",
    "        arg = np.argmin(res_gpu.copy_to_host())\n",
    "        end = timer()\n",
    "        if i == 0:\n",
    "            continue\n",
    "\n",
    "        if res != 1024:\n",
    "            print(f\"Bad value for size: {size}\")\n",
    "            break;\n",
    "        times.append(end - start)\n",
    "    print(f\"{size:>8} = {get_df(times, samples - 1):>8}ms\")"
   ]
  }
 ],
 "metadata": {
  "interpreter": {
   "hash": "4fbfea1dd5a17f80dff8df3ba641602c59e31ce1a55b82aea18e6894ff3c71a7"
  },
  "kernelspec": {
   "display_name": "Python 3.9.7 64-bit",
   "language": "python",
   "name": "python3"
  },
  "language_info": {
   "codemirror_mode": {
    "name": "ipython",
    "version": 3
   },
   "file_extension": ".py",
   "mimetype": "text/x-python",
   "name": "python",
   "nbconvert_exporter": "python",
   "pygments_lexer": "ipython3",
   "version": "3.9.7"
  }
 },
 "nbformat": 4,
 "nbformat_minor": 5
}
