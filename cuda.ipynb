{
 "cells": [
  {
   "cell_type": "code",
   "execution_count": 79,
   "id": "e520ba33",
   "metadata": {},
   "outputs": [],
   "source": [
    "%matplotlib inline\n",
    "from matplotlib import pyplot as plt\n",
    "import numpy as np\n",
    "from numba import njit, cuda\n",
    "from timeit import default_timer as timer\n",
    "import simple"
   ]
  },
  {
   "cell_type": "code",
   "execution_count": 80,
   "id": "ea34b9d7",
   "metadata": {},
   "outputs": [],
   "source": [
    "def get_offset(offset_ms: int, track: np.array, sr: int) -> tuple[int, np.array]:\n",
    "    offset = int(sr / 1000 * offset_ms)\n",
    "    return offset, track[offset:(offset + 1000)]\n",
    "\n",
    "def comparator(a: np.array, b: np.array) -> int:\n",
    "    return np.sum(np.abs(np.subtract(a, b)))\n",
    "\n",
    "def calc_offset(a: np.array, b: np.array) -> int:\n",
    "    comps = np.array([comparator(a, b[i:(i + 1000)]) for i in range(len(b) - 1000)])\n",
    "    mn_arg = np.argmin(comps)\n",
    "    return mn_arg if comps[mn_arg] == 0.0 else -1\n",
    "\n",
    "@cuda.jit(device=True)\n",
    "def diff(a, b):\n",
    "    return abs(a - b)\n",
    "\n",
    "@cuda.jit\n",
    "def calc(curr_offset, track, res):\n",
    "    off = cuda.threadIdx.x * 32 + cuda.threadIdx.y + cuda.blockIdx.y * 32**2\n",
    "\n",
    "    if off >= res.shape[0] or cuda.blockIdx.x >= res.shape[1]:\n",
    "        return\n",
    "\n",
    "    res[off, cuda.blockIdx.x] = diff(curr_offset[cuda.blockIdx.x], track[off + cuda.blockIdx.x])"
   ]
  },
  {
   "cell_type": "code",
   "execution_count": 88,
   "id": "3de3a545",
   "metadata": {},
   "outputs": [
    {
     "data": {
      "text/plain": [
       "dict_keys([220, 1102, 2734, 16206, 27165, 50979])"
      ]
     },
     "execution_count": 88,
     "metadata": {},
     "output_type": "execute_result"
    }
   ],
   "source": [
    "original = simple.load_sound_files()[0]\n",
    "offsets = {}\n",
    "for off in [10, 50, 124, 735, 1232, 2312]:\n",
    "    k, v = get_offset(off, original.data, original.sample_rate) \n",
    "    offsets[k] = v\n",
    "offsets.keys()"
   ]
  },
  {
   "cell_type": "code",
   "execution_count": 89,
   "id": "18c8b2a2",
   "metadata": {},
   "outputs": [
    {
     "name": "stdout",
     "output_type": "stream",
     "text": [
      "   220 = 539.35ms\n",
      "  1102 = 536.34ms\n",
      "  2734 = 548.12ms\n",
      " 16206 = 546.70ms\n",
      " 27165 = 535.63ms\n",
      " 50979 = 541.75ms\n"
     ]
    }
   ],
   "source": [
    "samples = 12\n",
    "results = { k: np.zeros((samples)) for k in offsets }\n",
    "\n",
    "for correct, offset in offsets.items():\n",
    "    for i in range(samples):\n",
    "        start = timer()\n",
    "        res = calc_offset(offset, original.data)\n",
    "        end = timer()\n",
    "        results[correct][i] = end - start if res >= 0 else -1\n",
    "\n",
    "for k, v in results.items():\n",
    "    if v.min() == -1:\n",
    "        print(f\"Bad value at {k}\")\n",
    "    results[k] = (np.sum(v) - v.min() - v.max()) / (samples - 2)\n",
    "    print(f\"{k:>6} = {results[k] * 1000 :.2f}ms\")"
   ]
  },
  {
   "cell_type": "code",
   "execution_count": 93,
   "id": "00cb5e84",
   "metadata": {},
   "outputs": [
    {
     "name": "stdout",
     "output_type": "stream",
     "text": [
      "   220 = 127.20ms\n",
      "  1102 = 131.11ms\n",
      "  2734 = 145.88ms\n",
      " 16206 = 132.71ms\n",
      " 27165 = 131.55ms\n",
      " 50979 = 129.20ms\n"
     ]
    }
   ],
   "source": [
    "threads_per_block = (32, 32)\n",
    "blocks_per_grid = (1000, int(np.ceil((original.len - 1000) / (threads_per_block[0] * threads_per_block[1]))))\n",
    "\n",
    "samples = 13\n",
    "results_cuda = { k: np.zeros((samples - 1)) for k in offsets }\n",
    "\n",
    "for correct, offset in offsets.items():\n",
    "    for i in range(samples):\n",
    "        start = timer()\n",
    "        curr_offset_gpu = cuda.to_device(offset)\n",
    "        track_gpu = cuda.to_device(original.data)\n",
    "        res_gpu = cuda.to_device(np.zeros((original.len - 1000, 1000), dtype=np.int16))\n",
    "        calc[blocks_per_grid, threads_per_block](curr_offset_gpu, track_gpu, res_gpu)\n",
    "        arg = np.argmin(np.sum(res_gpu.copy_to_host(), axis=1))\n",
    "        end = timer()\n",
    "        if i == 0:\n",
    "            continue\n",
    "        results_cuda[correct][i - 1] = end - start if arg >= 0 else -1\n",
    "\n",
    "for k, v in results_cuda.items():\n",
    "    if v.min() == -1:\n",
    "        print(f\"Bad value at {k}\")\n",
    "    results_cuda[k] = (np.sum(v) - v.min() - v.max()) / (samples - 2)\n",
    "    print(f\"{k:>6} = {results_cuda[k] * 1000 :.2f}ms\")"
   ]
  }
 ],
 "metadata": {
  "interpreter": {
   "hash": "4fbfea1dd5a17f80dff8df3ba641602c59e31ce1a55b82aea18e6894ff3c71a7"
  },
  "kernelspec": {
   "display_name": "Python 3.9.7 64-bit",
   "language": "python",
   "name": "python3"
  },
  "language_info": {
   "codemirror_mode": {
    "name": "ipython",
    "version": 3
   },
   "file_extension": ".py",
   "mimetype": "text/x-python",
   "name": "python",
   "nbconvert_exporter": "python",
   "pygments_lexer": "ipython3",
   "version": "3.9.7"
  }
 },
 "nbformat": 4,
 "nbformat_minor": 5
}
